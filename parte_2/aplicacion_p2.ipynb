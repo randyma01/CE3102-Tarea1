{
 "cells": [
  {
   "cell_type": "code",
   "execution_count": 90,
   "metadata": {},
   "outputs": [],
   "source": [
    "from sympy import *\n",
    "from sympy import sympify\n",
    "from sympy import symbols\n",
    "import numpy as np\n",
    "import matplotlib.pyplot as plt"
   ]
  },
  {
   "cell_type": "code",
   "execution_count": 102,
   "metadata": {},
   "outputs": [],
   "source": [
    "# Funcion newton_H_m1\n",
    "\n",
    "# Parametros de entrada:\n",
    "#  fun: la funcion a evaluar, es un string\n",
    "#  x0: el valor inicial \n",
    "#  tol: tolerancia tal que |f(Xk)| < tol\n",
    "#  iterMax: el numero de iteraciones maximas que se pueden usar\n",
    "\n",
    "# Parámetros de salida:\n",
    "#  Xk: aproximación al cero de la función\n",
    "#  k: numero de iteracciones que realizó para encontrar un valor con la tolerancia dada\n",
    "#  error: |f(Xk)|\n",
    "\n",
    "def newton_H_m1 (funcion, x0, tol, iterMax):\n",
    "    d = symbols('d')\n",
    "\n",
    "    # Primera derivada de la función\n",
    "    df = diff(funcion, d)\n",
    "\n",
    "    # Método de Newton -> Hu = 1\n",
    "    Hu = 1 \n",
    "    \n",
    "    # Valores de la iteración inicial y el error inicial\n",
    "    k = 1\n",
    "    error = tol + 1\n",
    "    \n",
    "    \n",
    "    # borrar\n",
    "    print(funcion)\n",
    "    print (df)\n",
    "    print (Hu)\n",
    "    # hasta aqui\n",
    "    \n",
    "    \n",
    "    while ((error >= tol) and (k < iterMax)):\n",
    "        \n",
    "        # Se define una variable denominador para verificar que el denominador a la hora\n",
    "        # de evaluar el método no esté dando 0,si da 0, da un mensaje de aviso.\n",
    "        denominador = df.evalf(subs={d:x0})\n",
    "        \n",
    "        if denominador == 0:\n",
    "            \n",
    "            print (\"El denominador da 0\")\n",
    "\n",
    "        else:\n",
    "            \n",
    "            xk = x0 - (Hu*(funcion.evalf(subs={d:x0})/df.evalf(subs={d:x0})))\n",
    "            error = Abs (xk - x0)\n",
    "            x0 = xk\n",
    "            k = k + 1\n",
    "           \n",
    "    print (\"newton_H_m1\")\n",
    "    print (\"Xk:\", x0)\n",
    "    print (\"K:\", k)\n",
    "    print (\"error:\", error)"
   ]
  },
  {
   "cell_type": "code",
   "execution_count": 105,
   "metadata": {},
   "outputs": [],
   "source": [
    "def estimating_distances (x0, tol, iterMax):\n",
    "    #definition of the variable d\n",
    "    d = symbols('d')\n",
    "    #definition of the constants\n",
    "    r = 10\n",
    "    a = 4\n",
    "    λ = 1\n",
    "    x1 = 7\n",
    "    x2 = 6\n",
    "    σdB = 4\n",
    "    #definition of the complementary funtions\n",
    "    S = pi*r**2\n",
    "    gd = ((2*S)/pi)*acos(d/(2*r)) - d*sqrt((r**2) - (d**2)/4)\n",
    "    k =  ((10*a)/(log(10)))\n",
    "    σR = (σdB**2)/(10*a)**2\n",
    "    σc = ((gd**2)/(2*λ*k**2))*((1/gd)+(1/S))\n",
    "    \n",
    "    #definition of the main funtion\n",
    "    Fd = (log(x1,10)/(σR*log(10))) + ((d*(x2 -d))/σc)\n",
    "    \n",
    "    print(\"---------------------------------------------\\n\")\n",
    "    print(\"Fd: \",Fd)\n",
    "    print(\"---------------------------------------------\\n\")\n",
    "    \n",
    "    #newton function call\n",
    "    newton_H_m1(Fd, x0, tol, iterMax)"
   ]
  },
  {
   "cell_type": "code",
   "execution_count": 112,
   "metadata": {},
   "outputs": [
    {
     "name": "stdout",
     "output_type": "stream",
     "text": [
      "---------------------------------------------\n",
      "\n",
      "Fd:  3200*d*(6 - d)/((1/(100*pi) + 1/(-d*sqrt(100 - d**2/4) + 200*acos(d/20)))*(-d*sqrt(100 - d**2/4) + 200*acos(d/20))**2*log(10)**2) + 100.0*log(7)/log(10)**2\n",
      "---------------------------------------------\n",
      "\n",
      "3200*d*(6 - d)/((1/(100*pi) + 1/(-d*sqrt(100 - d**2/4) + 200*acos(d/20)))*(-d*sqrt(100 - d**2/4) + 200*acos(d/20))**2*log(10)**2) + 100.0*log(7)/log(10)**2\n",
      "3200*d*(6 - d)*(-d**2/(2*sqrt(100 - d**2/4)) + 2*sqrt(100 - d**2/4) + 20/sqrt(1 - d**2/400))/((1/(100*pi) + 1/(-d*sqrt(100 - d**2/4) + 200*acos(d/20)))*(-d*sqrt(100 - d**2/4) + 200*acos(d/20))**3*log(10)**2) - 3200*d*(6 - d)*(-d**2/(4*sqrt(100 - d**2/4)) + sqrt(100 - d**2/4) + 10/sqrt(1 - d**2/400))/((1/(100*pi) + 1/(-d*sqrt(100 - d**2/4) + 200*acos(d/20)))**2*(-d*sqrt(100 - d**2/4) + 200*acos(d/20))**4*log(10)**2) - 3200*d/((1/(100*pi) + 1/(-d*sqrt(100 - d**2/4) + 200*acos(d/20)))*(-d*sqrt(100 - d**2/4) + 200*acos(d/20))**2*log(10)**2) + 3200*(6 - d)/((1/(100*pi) + 1/(-d*sqrt(100 - d**2/4) + 200*acos(d/20)))*(-d*sqrt(100 - d**2/4) + 200*acos(d/20))**2*log(10)**2)\n",
      "1\n",
      "newton_H_m1\n",
      "Xk: -5.26333253418851\n",
      "K: 5\n",
      "error: 2.66672369431120e-6\n"
     ]
    }
   ],
   "source": [
    "estimating_distances(1, 0.00001, 100)"
   ]
  },
  {
   "cell_type": "code",
   "execution_count": 96,
   "metadata": {},
   "outputs": [
    {
     "data": {
      "text/latex": [
       "$\\displaystyle - \\frac{3200 d}{\\left(\\frac{1}{100 \\pi} + \\frac{1}{- d \\sqrt{100 - \\frac{d^{2}}{4}} + 200 \\operatorname{acos}{\\left(\\frac{d}{20} \\right)}}\\right) \\left(- d \\sqrt{100 - \\frac{d^{2}}{4}} + 200 \\operatorname{acos}{\\left(\\frac{d}{20} \\right)}\\right)^{2} \\log{\\left(10 \\right)}^{2}} + \\frac{100.0 \\log{\\left(7 \\right)}}{\\log{\\left(10 \\right)}^{2}}$"
      ],
      "text/plain": [
       "-3200*d/((1/(100*pi) + 1/(-d*sqrt(100 - d**2/4) + 200*acos(d/20)))*(-d*sqrt(100 - d**2/4) + 200*acos(d/20))**2*log(10)**2) + 100.0*log(7)/log(10)**2"
      ]
     },
     "execution_count": 96,
     "metadata": {},
     "output_type": "execute_result"
    }
   ],
   "source": [
    "Fd"
   ]
  },
  {
   "cell_type": "code",
   "execution_count": null,
   "metadata": {},
   "outputs": [],
   "source": []
  },
  {
   "cell_type": "code",
   "execution_count": null,
   "metadata": {},
   "outputs": [],
   "source": []
  }
 ],
 "metadata": {
  "kernelspec": {
   "display_name": "Python 3",
   "language": "python",
   "name": "python3"
  },
  "language_info": {
   "codemirror_mode": {
    "name": "ipython",
    "version": 3
   },
   "file_extension": ".py",
   "mimetype": "text/x-python",
   "name": "python",
   "nbconvert_exporter": "python",
   "pygments_lexer": "ipython3",
   "version": "3.8.3"
  }
 },
 "nbformat": 4,
 "nbformat_minor": 4
}
